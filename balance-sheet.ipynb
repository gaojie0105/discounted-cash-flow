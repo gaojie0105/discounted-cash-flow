{
 "cells": [
  {
   "cell_type": "code",
   "execution_count": 1,
   "metadata": {},
   "outputs": [],
   "source": [
    "import os\n",
    "import pandas"
   ]
  },
  {
   "cell_type": "code",
   "execution_count": 2,
   "metadata": {},
   "outputs": [],
   "source": [
    "balance_sheet = [x for x in os.listdir('financial-statements/') if x.endswith('2.csv')]"
   ]
  },
  {
   "cell_type": "code",
   "execution_count": 3,
   "metadata": {},
   "outputs": [],
   "source": [
    "ticker_code = []\n",
    "for ticker in balance_sheet:\n",
    "    ticker_code.append(ticker[ : 4])"
   ]
  },
  {
   "cell_type": "code",
   "execution_count": 4,
   "metadata": {},
   "outputs": [],
   "source": [
    "ticker_code = pandas.DataFrame({'ticker_code': ticker_code})"
   ]
  },
  {
   "cell_type": "code",
   "execution_count": 5,
   "metadata": {},
   "outputs": [],
   "source": [
    "dfs = []\n",
    "for i in balance_sheet:\n",
    "    dfs.append(pandas.read_csv(os.getcwd() + '/financial-statements/' + i))"
   ]
  },
  {
   "cell_type": "code",
   "execution_count": 6,
   "metadata": {},
   "outputs": [],
   "source": [
    "df = pandas.concat(dfs, sort=False).reset_index(drop = True)"
   ]
  },
  {
   "cell_type": "code",
   "execution_count": 7,
   "metadata": {},
   "outputs": [],
   "source": [
    "df = pandas.merge(ticker_code, df, how = 'inner', left_index = True, right_index = True)"
   ]
  },
  {
   "cell_type": "code",
   "execution_count": 8,
   "metadata": {},
   "outputs": [],
   "source": [
    "def get_column():\n",
    "    \n",
    "    column_name = dict({\n",
    "        'ticker_code': 'ticker_code',\n",
    "        'Kas dan setara kas': 'cash_and_equivalents',\n",
    "        'Piutang usaha pihak ketiga': 'account_receivables_third_party',\n",
    "        'Piutang usaha pihak berelasi': 'account_receivables_related_party',\n",
    "        'Jumlah aset lancar': 'total_current_assets',\n",
    "        'Aset tetap': 'fixed_assets',\n",
    "        'Jumlah aset tidak lancar': 'total_non_current_assets',\n",
    "        'Jumlah aset': 'total_assets',\n",
    "        'Jumlah liabilitas jangka pendek': 'total_current_liabilities',\n",
    "        'Jumlah liabilitas jangka panjang': 'total_non_current_liabilities',\n",
    "        'Jumlah ekuitas': 'total_equity'\n",
    "    })\n",
    "    \n",
    "    return column_name"
   ]
  },
  {
   "cell_type": "code",
   "execution_count": 9,
   "metadata": {},
   "outputs": [],
   "source": [
    "df = df.loc[:, df.columns.isin([\n",
    "    'ticker_code',\n",
    "    'Kas dan setara kas',\n",
    "    'Piutang usaha pihak ketiga',\n",
    "    'Piutang usaha pihak berelasi',\n",
    "    'Jumlah aset lancar',\n",
    "    'Aset tetap',\n",
    "    'Jumlah aset tidak lancar',\n",
    "    'Jumlah aset',\n",
    "    'Jumlah liabilitas jangka pendek',\n",
    "    'Jumlah liabilitas jangka panjang',\n",
    "    'Jumlah ekuitas'\n",
    "])]"
   ]
  },
  {
   "cell_type": "code",
   "execution_count": 10,
   "metadata": {},
   "outputs": [],
   "source": [
    "df.columns = get_column().values()"
   ]
  },
  {
   "cell_type": "code",
   "execution_count": 11,
   "metadata": {},
   "outputs": [],
   "source": [
    "df.to_csv(os.getcwd() + '/sample-output/balance-sheet.csv', index = False)"
   ]
  }
 ],
 "metadata": {
  "kernelspec": {
   "display_name": "Python 3",
   "language": "python",
   "name": "python3"
  },
  "language_info": {
   "codemirror_mode": {
    "name": "ipython",
    "version": 3
   },
   "file_extension": ".py",
   "mimetype": "text/x-python",
   "name": "python",
   "nbconvert_exporter": "python",
   "pygments_lexer": "ipython3",
   "version": "3.7.3"
  }
 },
 "nbformat": 4,
 "nbformat_minor": 2
}
