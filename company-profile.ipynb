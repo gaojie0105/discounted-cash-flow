{
 "cells": [
  {
   "cell_type": "code",
   "execution_count": 1,
   "metadata": {},
   "outputs": [],
   "source": [
    "import os\n",
    "import pandas"
   ]
  },
  {
   "cell_type": "code",
   "execution_count": 2,
   "metadata": {},
   "outputs": [],
   "source": [
    "company_profile = [x for x in os.listdir('financial-statements/') if x.endswith('1.csv')]"
   ]
  },
  {
   "cell_type": "code",
   "execution_count": 3,
   "metadata": {},
   "outputs": [],
   "source": [
    "dfs = []\n",
    "for i in company_profile:\n",
    "    dfs.append(pandas.read_csv(os.getcwd() + '/financial-statements/' + i))"
   ]
  },
  {
   "cell_type": "code",
   "execution_count": 4,
   "metadata": {},
   "outputs": [],
   "source": [
    "df = pandas.concat(dfs, sort=False).reset_index(drop = True)"
   ]
  },
  {
   "cell_type": "code",
   "execution_count": 5,
   "metadata": {},
   "outputs": [],
   "source": [
    "def get_column():\n",
    "    \n",
    "    column_name = dict({\n",
    "        'Nama entitas': 'company_name',\n",
    "        'Kode entitas': 'ticker_code',\n",
    "        'Industri utama entitas': 'industry',\n",
    "        'Sektor': 'sector',\n",
    "        'Subsektor': 'subsector',\n",
    "        'Informasi pemegang saham pengendali': 'controlling_shareholder_info',\n",
    "        'Jenis entitas': 'entity_type',\n",
    "        'Periode penyampaian laporan keuangan': 'period',\n",
    "        'Mata uang pelaporan': 'currency',\n",
    "        'Kurs konversi pada tanggal pelaporan jika mata uang penyajian selain rupiah': 'fx_rate',\n",
    "        'Pembulatan yang digunakan dalam penyajian jumlah dalam laporan keuangan': 'rounding',\n",
    "        'Jenis opini auditor': 'auditor_opinion',\n",
    "        'Auditor tahun berjalan': 'auditor_name'\n",
    "    })\n",
    "    \n",
    "    return column_name"
   ]
  },
  {
   "cell_type": "code",
   "execution_count": 6,
   "metadata": {},
   "outputs": [],
   "source": [
    "df = df.loc[:, df.columns.isin([\n",
    "    'Nama entitas',\n",
    "    'Kode entitas',\n",
    "    'Industri utama entitas',\n",
    "    'Sektor',\n",
    "    'Subsektor',\n",
    "    'Informasi pemegang saham pengendali',\n",
    "    'Jenis entitas',\n",
    "    'Periode penyampaian laporan keuangan',\n",
    "    'Mata uang pelaporan',\n",
    "    'Kurs konversi pada tanggal pelaporan jika mata uang penyajian selain rupiah',\n",
    "    'Pembulatan yang digunakan dalam penyajian jumlah dalam laporan keuangan',\n",
    "    'Jenis opini auditor',\n",
    "    'Auditor tahun berjalan'\n",
    "])]"
   ]
  },
  {
   "cell_type": "code",
   "execution_count": 7,
   "metadata": {},
   "outputs": [],
   "source": [
    "df.columns = get_column().values()"
   ]
  },
  {
   "cell_type": "code",
   "execution_count": 8,
   "metadata": {},
   "outputs": [],
   "source": [
    "df.to_csv(os.getcwd() + '/output/company-profile.csv', index = False)"
   ]
  }
 ],
 "metadata": {
  "kernelspec": {
   "display_name": "Python 3",
   "language": "python",
   "name": "python3"
  },
  "language_info": {
   "codemirror_mode": {
    "name": "ipython",
    "version": 3
   },
   "file_extension": ".py",
   "mimetype": "text/x-python",
   "name": "python",
   "nbconvert_exporter": "python",
   "pygments_lexer": "ipython3",
   "version": "3.7.3"
  }
 },
 "nbformat": 4,
 "nbformat_minor": 2
}
