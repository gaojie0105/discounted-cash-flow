{
 "cells": [
  {
   "cell_type": "code",
   "execution_count": 11,
   "metadata": {},
   "outputs": [],
   "source": [
    "import os\n",
    "import pandas\n",
    "from functools import partial, reduce"
   ]
  },
  {
   "cell_type": "markdown",
   "metadata": {},
   "source": [
    "## Equation"
   ]
  },
  {
   "cell_type": "markdown",
   "metadata": {},
   "source": [
    "$$ DCF = \\frac{CF_1}{(1 + r) ^ 1} + \\frac{CF_2}{(1 + r) ^ 2} + ... + \\frac{CF_n}{(1 + r) ^ n} $$"
   ]
  },
  {
   "cell_type": "markdown",
   "metadata": {},
   "source": [
    "Where CF stands for unlevered free cash flow for a given year ($CF_1$ means cash flow in year 1, and so on); and $r$ stands for the discount rate."
   ]
  },
  {
   "cell_type": "markdown",
   "metadata": {},
   "source": [
    "CF = EBITDA - capital expenditure - changes working capital - taxes"
   ]
  },
  {
   "cell_type": "markdown",
   "metadata": {},
   "source": [
    "## Load Data"
   ]
  },
  {
   "cell_type": "code",
   "execution_count": 4,
   "metadata": {},
   "outputs": [],
   "source": [
    "sample_path = os.getcwd() + '/sample-output/'"
   ]
  },
  {
   "cell_type": "code",
   "execution_count": 6,
   "metadata": {},
   "outputs": [],
   "source": [
    "file_name = [x for x in os.listdir('sample-output/') if x.endswith('.csv')]"
   ]
  },
  {
   "cell_type": "code",
   "execution_count": 7,
   "metadata": {},
   "outputs": [],
   "source": [
    "dfs = []\n",
    "for f in file_name:\n",
    "    dfs.append(pandas.read_csv(sample_path + f))"
   ]
  },
  {
   "cell_type": "code",
   "execution_count": 12,
   "metadata": {},
   "outputs": [],
   "source": [
    "df = reduce(partial(pandas.merge, on = 'ticker_code'), dfs)"
   ]
  },
  {
   "cell_type": "markdown",
   "metadata": {},
   "source": [
    "## Calculate CF"
   ]
  },
  {
   "cell_type": "code",
   "execution_count": 17,
   "metadata": {},
   "outputs": [],
   "source": [
    "# cf = pretax_income - fixed_assets - (total_current_assets - total_current_liabilities)"
   ]
  },
  {
   "cell_type": "code",
   "execution_count": 18,
   "metadata": {},
   "outputs": [],
   "source": [
    "df_cf = df[['ticker_code', 'pretax_income', 'fixed_assets', 'total_current_assets', 'total_current_liabilities']]"
   ]
  },
  {
   "cell_type": "code",
   "execution_count": 23,
   "metadata": {},
   "outputs": [],
   "source": [
    "def get_free_cash_flow(data):\n",
    "    \n",
    "    return data[['pretax_income' - 'fixed_assets' - 'total_current_assets' - 'total_current_liabilities']]"
   ]
  },
  {
   "cell_type": "code",
   "execution_count": 26,
   "metadata": {},
   "outputs": [
    {
     "name": "stderr",
     "output_type": "stream",
     "text": [
      "C:\\Users\\user\\Anaconda3\\lib\\site-packages\\ipykernel_launcher.py:1: SettingWithCopyWarning: \n",
      "A value is trying to be set on a copy of a slice from a DataFrame.\n",
      "Try using .loc[row_indexer,col_indexer] = value instead\n",
      "\n",
      "See the caveats in the documentation: http://pandas.pydata.org/pandas-docs/stable/indexing.html#indexing-view-versus-copy\n",
      "  \"\"\"Entry point for launching an IPython kernel.\n"
     ]
    }
   ],
   "source": [
    "df_cf['free_cash_flow'] = df['pretax_income'] - df['fixed_assets']"
   ]
  },
  {
   "cell_type": "code",
   "execution_count": 27,
   "metadata": {},
   "outputs": [
    {
     "data": {
      "text/html": [
       "<div>\n",
       "<style scoped>\n",
       "    .dataframe tbody tr th:only-of-type {\n",
       "        vertical-align: middle;\n",
       "    }\n",
       "\n",
       "    .dataframe tbody tr th {\n",
       "        vertical-align: top;\n",
       "    }\n",
       "\n",
       "    .dataframe thead th {\n",
       "        text-align: right;\n",
       "    }\n",
       "</style>\n",
       "<table border=\"1\" class=\"dataframe\">\n",
       "  <thead>\n",
       "    <tr style=\"text-align: right;\">\n",
       "      <th></th>\n",
       "      <th>ticker_code</th>\n",
       "      <th>pretax_income</th>\n",
       "      <th>fixed_assets</th>\n",
       "      <th>total_current_assets</th>\n",
       "      <th>total_current_liabilities</th>\n",
       "      <th>free_cash_flow</th>\n",
       "    </tr>\n",
       "  </thead>\n",
       "  <tbody>\n",
       "    <tr>\n",
       "      <th>0</th>\n",
       "      <td>AALI</td>\n",
       "      <td>2.207080e+06</td>\n",
       "      <td>1.021901e+07</td>\n",
       "      <td>4.500628e+06</td>\n",
       "      <td>3.076530e+06</td>\n",
       "      <td>-8.011933e+06</td>\n",
       "    </tr>\n",
       "    <tr>\n",
       "      <th>1</th>\n",
       "      <td>ABBA</td>\n",
       "      <td>-4.132766e+10</td>\n",
       "      <td>3.423789e+10</td>\n",
       "      <td>1.310550e+11</td>\n",
       "      <td>1.880980e+11</td>\n",
       "      <td>-7.556555e+10</td>\n",
       "    </tr>\n",
       "    <tr>\n",
       "      <th>2</th>\n",
       "      <td>ABDA</td>\n",
       "      <td>5.082946e+07</td>\n",
       "      <td>9.637895e+07</td>\n",
       "      <td>NaN</td>\n",
       "      <td>NaN</td>\n",
       "      <td>-4.554948e+07</td>\n",
       "    </tr>\n",
       "    <tr>\n",
       "      <th>3</th>\n",
       "      <td>ABMM</td>\n",
       "      <td>9.362569e+07</td>\n",
       "      <td>4.010247e+08</td>\n",
       "      <td>3.252425e+08</td>\n",
       "      <td>2.227963e+08</td>\n",
       "      <td>-3.073990e+08</td>\n",
       "    </tr>\n",
       "    <tr>\n",
       "      <th>4</th>\n",
       "      <td>ACES</td>\n",
       "      <td>1.202709e+12</td>\n",
       "      <td>4.438951e+11</td>\n",
       "      <td>4.096280e+12</td>\n",
       "      <td>6.310555e+11</td>\n",
       "      <td>7.588140e+11</td>\n",
       "    </tr>\n",
       "    <tr>\n",
       "      <th>5</th>\n",
       "      <td>ACST</td>\n",
       "      <td>2.422600e+04</td>\n",
       "      <td>7.551290e+05</td>\n",
       "      <td>NaN</td>\n",
       "      <td>NaN</td>\n",
       "      <td>-7.309030e+05</td>\n",
       "    </tr>\n",
       "    <tr>\n",
       "      <th>6</th>\n",
       "      <td>ADES</td>\n",
       "      <td>7.006000e+04</td>\n",
       "      <td>4.472490e+05</td>\n",
       "      <td>3.641380e+05</td>\n",
       "      <td>2.623970e+05</td>\n",
       "      <td>-3.771890e+05</td>\n",
       "    </tr>\n",
       "    <tr>\n",
       "      <th>7</th>\n",
       "      <td>ADHI</td>\n",
       "      <td>1.167777e+12</td>\n",
       "      <td>1.573324e+12</td>\n",
       "      <td>2.542954e+13</td>\n",
       "      <td>1.896430e+13</td>\n",
       "      <td>-4.055467e+11</td>\n",
       "    </tr>\n",
       "    <tr>\n",
       "      <th>8</th>\n",
       "      <td>ADMF</td>\n",
       "      <td>2.484569e+06</td>\n",
       "      <td>2.454880e+05</td>\n",
       "      <td>NaN</td>\n",
       "      <td>NaN</td>\n",
       "      <td>2.239081e+06</td>\n",
       "    </tr>\n",
       "    <tr>\n",
       "      <th>9</th>\n",
       "      <td>ADMG</td>\n",
       "      <td>-1.395757e+06</td>\n",
       "      <td>1.475900e+08</td>\n",
       "      <td>1.241804e+08</td>\n",
       "      <td>2.646348e+07</td>\n",
       "      <td>-1.489857e+08</td>\n",
       "    </tr>\n",
       "  </tbody>\n",
       "</table>\n",
       "</div>"
      ],
      "text/plain": [
       "  ticker_code  pretax_income  fixed_assets  total_current_assets  \\\n",
       "0        AALI   2.207080e+06  1.021901e+07          4.500628e+06   \n",
       "1        ABBA  -4.132766e+10  3.423789e+10          1.310550e+11   \n",
       "2        ABDA   5.082946e+07  9.637895e+07                   NaN   \n",
       "3        ABMM   9.362569e+07  4.010247e+08          3.252425e+08   \n",
       "4        ACES   1.202709e+12  4.438951e+11          4.096280e+12   \n",
       "5        ACST   2.422600e+04  7.551290e+05                   NaN   \n",
       "6        ADES   7.006000e+04  4.472490e+05          3.641380e+05   \n",
       "7        ADHI   1.167777e+12  1.573324e+12          2.542954e+13   \n",
       "8        ADMF   2.484569e+06  2.454880e+05                   NaN   \n",
       "9        ADMG  -1.395757e+06  1.475900e+08          1.241804e+08   \n",
       "\n",
       "   total_current_liabilities  free_cash_flow  \n",
       "0               3.076530e+06   -8.011933e+06  \n",
       "1               1.880980e+11   -7.556555e+10  \n",
       "2                        NaN   -4.554948e+07  \n",
       "3               2.227963e+08   -3.073990e+08  \n",
       "4               6.310555e+11    7.588140e+11  \n",
       "5                        NaN   -7.309030e+05  \n",
       "6               2.623970e+05   -3.771890e+05  \n",
       "7               1.896430e+13   -4.055467e+11  \n",
       "8                        NaN    2.239081e+06  \n",
       "9               2.646348e+07   -1.489857e+08  "
      ]
     },
     "execution_count": 27,
     "metadata": {},
     "output_type": "execute_result"
    }
   ],
   "source": [
    "df_cf.head(10)"
   ]
  }
 ],
 "metadata": {
  "kernelspec": {
   "display_name": "Python 3",
   "language": "python",
   "name": "python3"
  },
  "language_info": {
   "codemirror_mode": {
    "name": "ipython",
    "version": 3
   },
   "file_extension": ".py",
   "mimetype": "text/x-python",
   "name": "python",
   "nbconvert_exporter": "python",
   "pygments_lexer": "ipython3",
   "version": "3.7.3"
  }
 },
 "nbformat": 4,
 "nbformat_minor": 2
}
