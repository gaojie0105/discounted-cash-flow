{
 "cells": [
  {
   "cell_type": "markdown",
   "metadata": {},
   "source": [
    "## Create Financial Valuation Using Discounted Cash Flow Analysis"
   ]
  },
  {
   "cell_type": "markdown",
   "metadata": {},
   "source": [
    "## References\n",
    "\n",
    "1. [Investopedia](http://i.investopedia.com/inv/pdf/tutorials/dcf.pdf)\n",
    "2. [...](https://.com)"
   ]
  },
  {
   "cell_type": "markdown",
   "metadata": {},
   "source": [
    "## Equation"
   ]
  },
  {
   "cell_type": "markdown",
   "metadata": {},
   "source": [
    "$$ DCF = \\frac{FCFF_1}{(1 + r) ^ 1} + \\frac{FCFF_2}{(1 + r) ^ 2} + ... + \\frac{FCFF_n}{(1 + r) ^ n} $$"
   ]
  },
  {
   "cell_type": "markdown",
   "metadata": {},
   "source": [
    "Where FCFF stands for unlevered free cash flow for a given year ($FCFF_1$ means free cash flow in year 1, and so on); and $r$ stands for the discount rate."
   ]
  },
  {
   "cell_type": "markdown",
   "metadata": {},
   "source": [
    "$ FCFF = EBITDA - CAPEX - \\Delta NWC - tax\\_expenses $\n",
    "\n",
    "Where:\n",
    "1. EBITDA = earnings before interest, depreciation, and amortization, or pretax income,\n",
    "2. CAPEX = capital expenditure, or fixed assets,\n",
    "3. $ \\Delta $ NWC = changes in net working capital, which can be derived by subtracting total current assets and total current liabilities in current and previous years,\n",
    "4. tax_expenses is already self-explanatory (hopefully)."
   ]
  },
  {
   "cell_type": "markdown",
   "metadata": {},
   "source": [
    "## Load Data"
   ]
  },
  {
   "cell_type": "code",
   "execution_count": 1,
   "metadata": {},
   "outputs": [],
   "source": [
    "import os\n",
    "import pandas\n",
    "import requests\n",
    "import string\n",
    "from functools import partial, reduce\n",
    "from bs4 import BeautifulSoup"
   ]
  },
  {
   "cell_type": "code",
   "execution_count": 2,
   "metadata": {},
   "outputs": [],
   "source": [
    "PATH = os.getcwd() + '/sample-output/'"
   ]
  },
  {
   "cell_type": "code",
   "execution_count": 3,
   "metadata": {},
   "outputs": [],
   "source": [
    "def get_dataframe(year):\n",
    "    \n",
    "    file_name = [x for x in os.listdir('sample-output/') if x.endswith('{}.csv'.format(year))]\n",
    "    \n",
    "    dfs = []\n",
    "    for f in file_name:\n",
    "        dfs.append(pandas.read_csv(PATH + f))\n",
    "        \n",
    "    return reduce(partial(pandas.merge, on = 'ticker_code'), dfs)"
   ]
  },
  {
   "cell_type": "code",
   "execution_count": 4,
   "metadata": {},
   "outputs": [],
   "source": [
    "dfs = []\n",
    "for year in (2017, 2018):\n",
    "    dfs.append(get_dataframe(year))"
   ]
  },
  {
   "cell_type": "code",
   "execution_count": 5,
   "metadata": {},
   "outputs": [],
   "source": [
    "df = pandas.concat(dfs, sort = False).reset_index(drop = True)"
   ]
  },
  {
   "cell_type": "markdown",
   "metadata": {},
   "source": [
    "## Calculate Free Cash Flow"
   ]
  },
  {
   "cell_type": "code",
   "execution_count": 6,
   "metadata": {},
   "outputs": [],
   "source": [
    "def get_free_cash_flow(year):\n",
    "    \n",
    "    # select necessary variables\n",
    "    # sort by ticker code in ascending order\n",
    "    # reset index\n",
    "    df_nwc = df[['year', 'ticker_code', 'total_current_assets', 'total_current_liabilities']]\\\n",
    "    .sort_values(by=['ticker_code'], ascending=True)\\\n",
    "    .reset_index(drop=True)\n",
    "    \n",
    "    # add net working capital as a column\n",
    "    df_nwc['net_working_capital'] = df_nwc['total_current_assets'] - df_nwc['total_current_liabilities']\n",
    "    \n",
    "    # changes in net working capital\n",
    "    df_nwc['net_working_capital_delta'] = df_nwc.groupby('ticker_code')['net_working_capital'].diff()\n",
    "    \n",
    "    # filter dataframe only in year latest year\n",
    "    df_nwc = df_nwc[df_nwc['year'] == year][['ticker_code', 'net_working_capital_delta']].reset_index(drop=True)\n",
    "    \n",
    "    # calculate free cash flow\n",
    "    df_cf = df[df['year'] == 2018][['year', 'ticker_code', 'pretax_income', 'fixed_assets', 'tax_expenses']]\n",
    "    df_cf = pandas.merge(df_cf, df_nwc, how = 'inner', on = 'ticker_code').reset_index(drop = True)\n",
    "    df_cf['free_cash_flow'] = df_cf['pretax_income'] \\\n",
    "    - df_cf['fixed_assets'] \\\n",
    "    - df_cf['net_working_capital_delta'] \\\n",
    "    - df_cf['tax_expenses']\n",
    "    \n",
    "    return df_cf[['year', 'ticker_code', 'free_cash_flow']].dropna().reset_index(drop=True)"
   ]
  },
  {
   "cell_type": "code",
   "execution_count": 7,
   "metadata": {},
   "outputs": [],
   "source": [
    "df_cf = get_free_cash_flow(2018)"
   ]
  },
  {
   "cell_type": "markdown",
   "metadata": {},
   "source": [
    "## Calculate Discount Rate (r)\n",
    "\n",
    "What we need to find out:\n",
    "1. Cost of Equity \n",
    "2. Cost of Debt"
   ]
  },
  {
   "cell_type": "markdown",
   "metadata": {},
   "source": [
    "### Cost of Equity\n",
    "\n",
    "Cost of equity can obtained by calculating [Capital Asset Pricing Model](https://www.investopedia.com/terms/c/capm.asp). Following are the items:\n",
    "\n",
    "1. Risk-free rate\n",
    "2. Beta\n",
    "3. Equity market risk premium (market rate subtracted by risk-free rate)"
   ]
  },
  {
   "cell_type": "markdown",
   "metadata": {},
   "source": [
    "### Risk-free rate"
   ]
  },
  {
   "cell_type": "markdown",
   "metadata": {},
   "source": [
    "Risk-free rate is commonly derived from T-bills rate. In Indonesia, the equivalent is [Obligasi Negara](https://www.bi.go.id/id/moneter/obligasi-negara/Default.aspx), which is traded in the secondary market. Currently there are many traded bonds with various coupon rates, so I am going to use the average rate. First, we need to scrape the table to get the coupon rate. "
   ]
  },
  {
   "cell_type": "code",
   "execution_count": 8,
   "metadata": {},
   "outputs": [],
   "source": [
    "def get_risk_free_rate():\n",
    "    \n",
    "    \"Returns risk free rate\"\n",
    "    \n",
    "    url = requests.get('https://www.bi.go.id/id/moneter/obligasi-negara/Default.aspx')\n",
    "    soup = BeautifulSoup(url.text, 'html')\n",
    "    table = soup.find('table', {'class': 'table1'})\n",
    "    trs = table.find_all('tr')\n",
    "    tds = []\n",
    "    for t in trs:\n",
    "        try:\n",
    "            tds.append(t.find_all('td')[-1].text.replace(' ', ''))\n",
    "        except IndexError:\n",
    "            pass\n",
    "    for t in range(len(tds)):\n",
    "        if '\\r' in tds[t]:\n",
    "            tds[t] = tds[t].replace('\\r', '')\n",
    "        elif '\\n' in tds[t]:\n",
    "            tds[t] = tds[t].replace('\\n', '')\n",
    "        try:\n",
    "            tds[t] = float(tds[t]) / 100\n",
    "        except ValueError:\n",
    "            pass\n",
    "        \n",
    "    risk_free_rate = []\n",
    "    for t in tds:\n",
    "        if type(t) == float:\n",
    "            risk_free_rate.append(t)\n",
    "    \n",
    "    return sum(risk_free_rate) / len(risk_free_rate)"
   ]
  },
  {
   "cell_type": "code",
   "execution_count": 9,
   "metadata": {},
   "outputs": [],
   "source": [
    "risk_free_rate = get_risk_free_rate()"
   ]
  },
  {
   "cell_type": "markdown",
   "metadata": {},
   "source": [
    "### Cost of Debt\n",
    "\n",
    "Cost of debt, or symbolized as RD, can be calculated as follows:\n",
    "\n",
    "$$ RD = 1 - tax\\_rate $$\n",
    "\n",
    "According to [Trading Economics](https://tradingeconomics.com/indonesia/corporate-tax-rate), Indonesia's corporate tax rate is 25%. Hence, the cost of equity is 75%."
   ]
  },
  {
   "cell_type": "markdown",
   "metadata": {},
   "source": [
    "### Capital Structure (Weighted Average Cost of Capital)"
   ]
  },
  {
   "cell_type": "markdown",
   "metadata": {},
   "source": [
    "## Calculate Fair Value\n",
    "\n",
    "What we need to find out is the terminal value\n",
    "\n",
    "$$ \\frac{FPYCF * (1 + LTCFGR)}{r - LTCFGR} $$\n",
    "\n",
    "Jeez, what's that?!?!?!\n",
    "\n",
    "1. FPYCF = Final projected year cash flow\n",
    "2. LTCGR = Long-term cash flow growth rate\n",
    "3. r = discounted rate"
   ]
  },
  {
   "cell_type": "code",
   "execution_count": null,
   "metadata": {},
   "outputs": [],
   "source": []
  }
 ],
 "metadata": {
  "kernelspec": {
   "display_name": "Python 3",
   "language": "python",
   "name": "python3"
  },
  "language_info": {
   "codemirror_mode": {
    "name": "ipython",
    "version": 3
   },
   "file_extension": ".py",
   "mimetype": "text/x-python",
   "name": "python",
   "nbconvert_exporter": "python",
   "pygments_lexer": "ipython3",
   "version": "3.7.3"
  }
 },
 "nbformat": 4,
 "nbformat_minor": 2
}
