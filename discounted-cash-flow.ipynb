{
 "cells": [
  {
   "cell_type": "markdown",
   "metadata": {},
   "source": [
    "## Create Financial Valuation Using Discounted Cash Flow Analysis"
   ]
  },
  {
   "cell_type": "markdown",
   "metadata": {},
   "source": [
    "## References\n",
    "\n",
    "1. [Investopedia](http://i.investopedia.com/inv/pdf/tutorials/dcf.pdf)\n",
    "2. [...](https://.com)"
   ]
  },
  {
   "cell_type": "markdown",
   "metadata": {},
   "source": [
    "## Equation"
   ]
  },
  {
   "cell_type": "markdown",
   "metadata": {},
   "source": [
    "$$ DCF = \\frac{FCFF_1}{(1 + r) ^ 1} + \\frac{FCFF_2}{(1 + r) ^ 2} + ... + \\frac{FCFF_n}{(1 + r) ^ n} $$"
   ]
  },
  {
   "cell_type": "markdown",
   "metadata": {},
   "source": [
    "Where $FCFF$ stands for unlevered free cash flow for a given year ($FCFF_1$ means free cash flow in year 1, and so on); and $r$ stands for the discount rate."
   ]
  },
  {
   "cell_type": "markdown",
   "metadata": {},
   "source": [
    "$ FCFF = EBITDA - CAPEX - \\Delta NWC - tax\\_expenses $\n",
    "\n",
    "Where:\n",
    "1. EBITDA = earnings before interest, depreciation, and amortization, or pretax income,\n",
    "2. CAPEX = capital expenditure, or fixed assets,\n",
    "3. $ \\Delta $ NWC = changes in net working capital, which can be derived by subtracting total current assets and total current liabilities in current and previous years,\n",
    "4. tax_expenses is already self-explanatory (hopefully)."
   ]
  },
  {
   "cell_type": "markdown",
   "metadata": {},
   "source": [
    "## Load Data"
   ]
  },
  {
   "cell_type": "code",
   "execution_count": 1,
   "metadata": {},
   "outputs": [],
   "source": [
    "import os\n",
    "import pandas\n",
    "import requests\n",
    "import string\n",
    "from functools import partial, reduce\n",
    "from bs4 import BeautifulSoup"
   ]
  },
  {
   "cell_type": "code",
   "execution_count": 2,
   "metadata": {},
   "outputs": [],
   "source": [
    "PATH = os.getcwd() + '/sample-output/'"
   ]
  },
  {
   "cell_type": "code",
   "execution_count": 42,
   "metadata": {},
   "outputs": [],
   "source": [
    "def get_single_dataframe(year):\n",
    "    \n",
    "    file_name = [x for x in os.listdir('sample-output/') if x.endswith('{}.csv'.format(year))]\n",
    "    \n",
    "    dfs = []\n",
    "    for f in file_name:\n",
    "        dfs.append(pandas.read_csv(PATH + f))\n",
    "        \n",
    "    return reduce(partial(pandas.merge, on = 'ticker_code'), dfs)"
   ]
  },
  {
   "cell_type": "code",
   "execution_count": 43,
   "metadata": {},
   "outputs": [],
   "source": [
    "def get_multiple_dataframes(year):\n",
    "    \n",
    "    dfs = []\n",
    "    for year in (year - 1, year):\n",
    "        dfs.append(get_dataframe(year))\n",
    "        \n",
    "    return pandas.concat(dfs, sort = False).reset_index(drop = True)"
   ]
  },
  {
   "cell_type": "code",
   "execution_count": 44,
   "metadata": {},
   "outputs": [],
   "source": [
    "df = get_multiple_dataframes(2018)"
   ]
  },
  {
   "cell_type": "markdown",
   "metadata": {},
   "source": [
    "## Calculate Free Cash Flow"
   ]
  },
  {
   "cell_type": "code",
   "execution_count": 45,
   "metadata": {},
   "outputs": [],
   "source": [
    "def get_free_cash_flow(year):\n",
    "    \n",
    "    # select necessary variables\n",
    "    # sort by ticker code in ascending order\n",
    "    # reset index\n",
    "    df_nwc = df[['year', 'ticker_code', 'total_current_assets', 'total_current_liabilities']]\\\n",
    "    .sort_values(by=['ticker_code'], ascending=True)\\\n",
    "    .reset_index(drop=True)\n",
    "    \n",
    "    # add net working capital as a column\n",
    "    df_nwc['net_working_capital'] = df_nwc['total_current_assets'] - df_nwc['total_current_liabilities']\n",
    "    \n",
    "    # changes in net working capital\n",
    "    df_nwc['net_working_capital_delta'] = df_nwc.groupby('ticker_code')['net_working_capital'].diff()\n",
    "    \n",
    "    # filter dataframe only in year latest year\n",
    "    df_nwc = df_nwc[df_nwc['year'] == year][['ticker_code', 'net_working_capital_delta']].reset_index(drop=True)\n",
    "    \n",
    "    # calculate free cash flow\n",
    "    df_cf = df[df['year'] == 2018][['year', 'ticker_code', 'pretax_income', 'fixed_assets', 'tax_expenses']]\n",
    "    df_cf = pandas.merge(df_cf, df_nwc, how = 'inner', on = 'ticker_code').reset_index(drop = True)\n",
    "    df_cf['free_cash_flow'] = df_cf['pretax_income'] \\\n",
    "    - df_cf['fixed_assets'] \\\n",
    "    - df_cf['net_working_capital_delta'] \\\n",
    "    - df_cf['tax_expenses']\n",
    "    \n",
    "    return df_cf[['year', 'ticker_code', 'free_cash_flow']].reset_index(drop=True)"
   ]
  },
  {
   "cell_type": "code",
   "execution_count": 46,
   "metadata": {},
   "outputs": [],
   "source": [
    "df_cf = get_free_cash_flow(2018)"
   ]
  },
  {
   "cell_type": "markdown",
   "metadata": {},
   "source": [
    "## Calculate Discount Rate (r)\n",
    "\n",
    "What we need to find out:\n",
    "1. Cost of Equity \n",
    "2. Cost of Debt"
   ]
  },
  {
   "cell_type": "markdown",
   "metadata": {},
   "source": [
    "### Cost of Equity\n",
    "\n",
    "Cost of equity, or RE, can obtained by calculating [Capital Asset Pricing Model](https://www.investopedia.com/terms/c/capm.asp). Following are the items:\n",
    "\n",
    "1. Risk-free rate\n",
    "2. Beta\n",
    "3. Equity market risk premium (market rate subtracted by risk-free rate)\n",
    "\n",
    "After getting the items, we need to calculate the cost of equity as follows:\n",
    "\n",
    "$$ RE = risk\\_free\\_rate + beta * (market\\_rate - risk\\_free\\_rate) $$"
   ]
  },
  {
   "cell_type": "markdown",
   "metadata": {},
   "source": [
    "### Risk-free rate"
   ]
  },
  {
   "cell_type": "markdown",
   "metadata": {},
   "source": [
    "Risk-free rate is commonly derived from T-bills rate. In Indonesia, the equivalent is [Obligasi Negara](https://www.bi.go.id/id/moneter/obligasi-negara/Default.aspx), which is traded in the secondary market. Currently there are many traded bonds with various coupon rates, so I am going to use the average rate. First, we need to scrape the table to get the coupon rate. "
   ]
  },
  {
   "cell_type": "code",
   "execution_count": 58,
   "metadata": {},
   "outputs": [],
   "source": [
    "def get_risk_free_rate():\n",
    "    \n",
    "    # get bonds rate from Bank Central of Indonesia\n",
    "    # attempt thrice in case of connection failure\n",
    "    i = 0\n",
    "    while i < 3:\n",
    "        try:\n",
    "            url = requests.get('https://www.bi.go.id/id/moneter/obligasi-negara/Default.aspx')\n",
    "            if url.status_code == 200:\n",
    "                soup = BeautifulSoup(url.text, 'html')\n",
    "            i = 3\n",
    "        except Exception:\n",
    "            i += 1\n",
    "    \n",
    "    # find table which contains the bonds rate\n",
    "    table = soup.find('table', {'class': 'table1'})\n",
    "    trs = table.find_all('tr')\n",
    "    \n",
    "    # get the bonds rate\n",
    "    tds = []\n",
    "    for t in trs:\n",
    "        try:\n",
    "            tds.append(t.find_all('td')[-1].text.replace(' ', ''))\n",
    "        except IndexError:\n",
    "            pass\n",
    "        \n",
    "    for t in range(len(tds)):\n",
    "        if '\\r' in tds[t]:\n",
    "            tds[t] = tds[t].replace('\\r', '')\n",
    "        elif '\\n' in tds[t]:\n",
    "            tds[t] = tds[t].replace('\\n', '')\n",
    "        try:\n",
    "            tds[t] = float(tds[t]) / 100\n",
    "        except ValueError:\n",
    "            pass\n",
    "        \n",
    "    risk_free_rate = []\n",
    "    for t in tds:\n",
    "        if type(t) == float:\n",
    "            risk_free_rate.append(t)\n",
    "    \n",
    "    # returns bonds rate\n",
    "    return sum(risk_free_rate) / len(risk_free_rate)"
   ]
  },
  {
   "cell_type": "code",
   "execution_count": 49,
   "metadata": {},
   "outputs": [],
   "source": [
    "def get_cost_of_equity(risk_free_rate, beta, market_rate):\n",
    "    \n",
    "    return risk_free_rate + beta * (market_rate - risk_free_rate)"
   ]
  },
  {
   "cell_type": "markdown",
   "metadata": {},
   "source": [
    "### Cost of Debt\n",
    "\n",
    "Cost of debt, or symbolized as RD, can be calculated as follows:\n",
    "\n",
    "$$ RD = 1 - tax\\_rate $$\n",
    "\n",
    "According to [Trading Economics](https://tradingeconomics.com/indonesia/corporate-tax-rate), Indonesia's corporate tax rate is 25%. Hence, the cost of equity is 75%."
   ]
  },
  {
   "cell_type": "markdown",
   "metadata": {},
   "source": [
    "### Capital Structure (Weighted Average Cost of Capital)"
   ]
  },
  {
   "cell_type": "code",
   "execution_count": null,
   "metadata": {},
   "outputs": [],
   "source": [
    "def get_wacc():\n",
    "\n",
    "    # get capital structure\n",
    "    df_wacc = df[df['year'] == 2018][['ticker_code', 'total_assets', 'total_equity']].reset_index(drop = True)\n",
    "    \n",
    "    df_wacc['equity_proportion'] = df_wacc['total_equity'] / df_wacc['total_assets']\n",
    "    df_wacc['liabilities_proportion'] = 1 - df_wacc['equity_proportion']\n",
    "    \n",
    "    # cost of equity\n",
    "    re = get_cost_of_equity(\n",
    "        risk_free_rate=get_risk_free_rate(),\n",
    "        beta=1,\n",
    "        market_rate=0.05\n",
    "    )\n",
    "    \n",
    "    # cost of debt\n",
    "    rd = 1 - 0.25\n",
    "    \n",
    "    # weighted cost of capital\n",
    "    df_wacc['wacc'] = (re * df_wacc['equity_proportion']) + (rd * (1 - df_wacc['equity_proportion']))\n",
    "    df_wacc = df_wacc[['ticker_code', 'wacc']]\n",
    "    \n",
    "    return df_wacc"
   ]
  },
  {
   "cell_type": "code",
   "execution_count": null,
   "metadata": {},
   "outputs": [],
   "source": [
    "df_wacc = get_wacc()"
   ]
  },
  {
   "cell_type": "code",
   "execution_count": 60,
   "metadata": {},
   "outputs": [],
   "source": [
    "df = pandas.merge(df_cf, df_wacc, how = 'inner', on = 'ticker_code')"
   ]
  },
  {
   "cell_type": "markdown",
   "metadata": {},
   "source": [
    "## Calculate Fair Value\n",
    "\n",
    "What we need to find out is the terminal value\n",
    "\n",
    "$$ terminal\\_value = \\frac{FPYCF * (1 + LTCFGR)}{r - LTCFGR} $$\n",
    "\n",
    "Jeez, what's that?!?!?!\n",
    "\n",
    "1. FPYCF = Final projected year cash flow\n",
    "2. LTCGR = Long-term cash flow growth rate\n",
    "3. r = discounted rate"
   ]
  },
  {
   "cell_type": "code",
   "execution_count": 79,
   "metadata": {},
   "outputs": [],
   "source": [
    "def get_fair_value(rate, num_year):\n",
    "    \n",
    "    df['terminal_value'] = (df['free_cash_flow'] * (1 + (rate * num_year)) \\\n",
    "                            * (1 + rate) \\\n",
    "                            / (df['wacc'] - rate))\n",
    "    \n",
    "    \n",
    "    df['enterprise_value'] = df['free_cash_flow'] / ((1 + rate) ** num_year)\n",
    "    \n",
    "    df['fair_value'] = df['terminal_value'] - df['enterprise_value']\n",
    "    \n",
    "    return df"
   ]
  },
  {
   "cell_type": "code",
   "execution_count": 81,
   "metadata": {},
   "outputs": [],
   "source": [
    "df_fv = get_fair_value(0.01, 1)"
   ]
  },
  {
   "cell_type": "code",
   "execution_count": 84,
   "metadata": {},
   "outputs": [
    {
     "data": {
      "text/html": [
       "<div>\n",
       "<style scoped>\n",
       "    .dataframe tbody tr th:only-of-type {\n",
       "        vertical-align: middle;\n",
       "    }\n",
       "\n",
       "    .dataframe tbody tr th {\n",
       "        vertical-align: top;\n",
       "    }\n",
       "\n",
       "    .dataframe thead th {\n",
       "        text-align: right;\n",
       "    }\n",
       "</style>\n",
       "<table border=\"1\" class=\"dataframe\">\n",
       "  <thead>\n",
       "    <tr style=\"text-align: right;\">\n",
       "      <th></th>\n",
       "      <th>year</th>\n",
       "      <th>ticker_code</th>\n",
       "      <th>fair_value</th>\n",
       "    </tr>\n",
       "  </thead>\n",
       "  <tbody>\n",
       "    <tr>\n",
       "      <th>0</th>\n",
       "      <td>2018</td>\n",
       "      <td>APOL</td>\n",
       "      <td>1.205725e+11</td>\n",
       "    </tr>\n",
       "    <tr>\n",
       "      <th>1</th>\n",
       "      <td>2018</td>\n",
       "      <td>BIMA</td>\n",
       "      <td>4.946429e+09</td>\n",
       "    </tr>\n",
       "    <tr>\n",
       "      <th>2</th>\n",
       "      <td>2018</td>\n",
       "      <td>CMPP</td>\n",
       "      <td>3.733407e+10</td>\n",
       "    </tr>\n",
       "    <tr>\n",
       "      <th>3</th>\n",
       "      <td>2018</td>\n",
       "      <td>CNKO</td>\n",
       "      <td>1.195950e+08</td>\n",
       "    </tr>\n",
       "    <tr>\n",
       "      <th>4</th>\n",
       "      <td>2018</td>\n",
       "      <td>CSIS</td>\n",
       "      <td>1.822183e+11</td>\n",
       "    </tr>\n",
       "    <tr>\n",
       "      <th>5</th>\n",
       "      <td>2018</td>\n",
       "      <td>EMTK</td>\n",
       "      <td>2.298630e+09</td>\n",
       "    </tr>\n",
       "    <tr>\n",
       "      <th>6</th>\n",
       "      <td>2018</td>\n",
       "      <td>ENRG</td>\n",
       "      <td>1.784610e+07</td>\n",
       "    </tr>\n",
       "    <tr>\n",
       "      <th>7</th>\n",
       "      <td>2018</td>\n",
       "      <td>ERAA</td>\n",
       "      <td>1.898704e+12</td>\n",
       "    </tr>\n",
       "    <tr>\n",
       "      <th>8</th>\n",
       "      <td>2018</td>\n",
       "      <td>ETWA</td>\n",
       "      <td>5.821560e+10</td>\n",
       "    </tr>\n",
       "    <tr>\n",
       "      <th>9</th>\n",
       "      <td>2018</td>\n",
       "      <td>FORU</td>\n",
       "      <td>8.478821e+09</td>\n",
       "    </tr>\n",
       "    <tr>\n",
       "      <th>10</th>\n",
       "      <td>2018</td>\n",
       "      <td>INDX</td>\n",
       "      <td>1.192107e+12</td>\n",
       "    </tr>\n",
       "    <tr>\n",
       "      <th>11</th>\n",
       "      <td>2018</td>\n",
       "      <td>JSMR</td>\n",
       "      <td>7.474601e+09</td>\n",
       "    </tr>\n",
       "    <tr>\n",
       "      <th>12</th>\n",
       "      <td>2018</td>\n",
       "      <td>KBLV</td>\n",
       "      <td>1.902945e+06</td>\n",
       "    </tr>\n",
       "    <tr>\n",
       "      <th>13</th>\n",
       "      <td>2018</td>\n",
       "      <td>KOIN</td>\n",
       "      <td>4.204061e+09</td>\n",
       "    </tr>\n",
       "    <tr>\n",
       "      <th>14</th>\n",
       "      <td>2018</td>\n",
       "      <td>KOPI</td>\n",
       "      <td>9.028648e+10</td>\n",
       "    </tr>\n",
       "    <tr>\n",
       "      <th>15</th>\n",
       "      <td>2018</td>\n",
       "      <td>MBTO</td>\n",
       "      <td>2.005057e+11</td>\n",
       "    </tr>\n",
       "    <tr>\n",
       "      <th>16</th>\n",
       "      <td>2018</td>\n",
       "      <td>MDRN</td>\n",
       "      <td>3.945926e+10</td>\n",
       "    </tr>\n",
       "    <tr>\n",
       "      <th>17</th>\n",
       "      <td>2018</td>\n",
       "      <td>MLPT</td>\n",
       "      <td>5.262775e+08</td>\n",
       "    </tr>\n",
       "    <tr>\n",
       "      <th>18</th>\n",
       "      <td>2018</td>\n",
       "      <td>POLY</td>\n",
       "      <td>7.265746e+07</td>\n",
       "    </tr>\n",
       "    <tr>\n",
       "      <th>19</th>\n",
       "      <td>2018</td>\n",
       "      <td>RIMO</td>\n",
       "      <td>6.815337e+12</td>\n",
       "    </tr>\n",
       "    <tr>\n",
       "      <th>20</th>\n",
       "      <td>2018</td>\n",
       "      <td>SIMA</td>\n",
       "      <td>1.205622e+10</td>\n",
       "    </tr>\n",
       "    <tr>\n",
       "      <th>21</th>\n",
       "      <td>2018</td>\n",
       "      <td>TARA</td>\n",
       "      <td>6.537338e+10</td>\n",
       "    </tr>\n",
       "    <tr>\n",
       "      <th>22</th>\n",
       "      <td>2018</td>\n",
       "      <td>VIVA</td>\n",
       "      <td>1.285434e+09</td>\n",
       "    </tr>\n",
       "    <tr>\n",
       "      <th>23</th>\n",
       "      <td>2018</td>\n",
       "      <td>ZBRA</td>\n",
       "      <td>1.081762e+09</td>\n",
       "    </tr>\n",
       "  </tbody>\n",
       "</table>\n",
       "</div>"
      ],
      "text/plain": [
       "    year ticker_code    fair_value\n",
       "0   2018        APOL  1.205725e+11\n",
       "1   2018        BIMA  4.946429e+09\n",
       "2   2018        CMPP  3.733407e+10\n",
       "3   2018        CNKO  1.195950e+08\n",
       "4   2018        CSIS  1.822183e+11\n",
       "5   2018        EMTK  2.298630e+09\n",
       "6   2018        ENRG  1.784610e+07\n",
       "7   2018        ERAA  1.898704e+12\n",
       "8   2018        ETWA  5.821560e+10\n",
       "9   2018        FORU  8.478821e+09\n",
       "10  2018        INDX  1.192107e+12\n",
       "11  2018        JSMR  7.474601e+09\n",
       "12  2018        KBLV  1.902945e+06\n",
       "13  2018        KOIN  4.204061e+09\n",
       "14  2018        KOPI  9.028648e+10\n",
       "15  2018        MBTO  2.005057e+11\n",
       "16  2018        MDRN  3.945926e+10\n",
       "17  2018        MLPT  5.262775e+08\n",
       "18  2018        POLY  7.265746e+07\n",
       "19  2018        RIMO  6.815337e+12\n",
       "20  2018        SIMA  1.205622e+10\n",
       "21  2018        TARA  6.537338e+10\n",
       "22  2018        VIVA  1.285434e+09\n",
       "23  2018        ZBRA  1.081762e+09"
      ]
     },
     "execution_count": 84,
     "metadata": {},
     "output_type": "execute_result"
    }
   ],
   "source": [
    "df_fv[df_fv['fair_value'] >= 0].reset_index(drop = True)[['year', 'ticker_code', 'fair_value']]"
   ]
  }
 ],
 "metadata": {
  "kernelspec": {
   "display_name": "Python 3",
   "language": "python",
   "name": "python3"
  },
  "language_info": {
   "codemirror_mode": {
    "name": "ipython",
    "version": 3
   },
   "file_extension": ".py",
   "mimetype": "text/x-python",
   "name": "python",
   "nbconvert_exporter": "python",
   "pygments_lexer": "ipython3",
   "version": "3.7.3"
  }
 },
 "nbformat": 4,
 "nbformat_minor": 2
}
